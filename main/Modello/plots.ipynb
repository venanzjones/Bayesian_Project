{
 "cells": [
  {
   "cell_type": "code",
   "execution_count": null,
   "id": "84fc5104",
   "metadata": {},
   "outputs": [],
   "source": [
    "import pandas as pd\n",
    "import numpy as np\n",
    "import matplotlib.pyplot as plt\n",
    "import seaborn as sns\n",
    "from tensorflow_probability.substrates import numpy as tfp\n",
    "from cmdstanpy import CmdStanModel, set_cmdstan_path\n",
    "import arviz as az"
   ]
  },
  {
   "cell_type": "code",
   "execution_count": null,
   "id": "a444c13f",
   "metadata": {},
   "outputs": [],
   "source": [
    "import pickle\n",
    "with open(\"model_space.pkl8\", \"rb\") as f:\n",
    "    data_dict = pickle.load(f)\n",
    "\n",
    "fit180 = data_dict['fit']\n",
    "with open(\"posterior_out120.pkl\", \"rb\") as f:\n",
    "    data_dict = pickle.load(f)\n",
    "fit120 = data_dict['fit']"
   ]
  },
  {
   "cell_type": "code",
   "execution_count": null,
   "id": "36a96853",
   "metadata": {},
   "outputs": [],
   "source": [
    "axes = az.plot_forest([fit180, fit120],\n",
    "                           model_names = [\"180 Full Model\", \"120 Rejection Sampling\"],\n",
    "                           kind='forestplot',\n",
    "                           var_names=[\"^beta\"],\n",
    "                           filter_vars=\"regex\",\n",
    "                           combined=True,\n",
    "                           figsize=(9, 7),\n",
    "                           hdi_prob = .95)\n",
    "axes[0].set_title('Estimated coefficients')\n",
    "plt.axvline(x=0, color='r', linestyle=':', linewidth=.5)"
   ]
  }
 ],
 "metadata": {
  "kernelspec": {
   "display_name": "Python 3 (ipykernel)",
   "language": "python",
   "name": "python3"
  },
  "language_info": {
   "codemirror_mode": {
    "name": "ipython",
    "version": 3
   },
   "file_extension": ".py",
   "mimetype": "text/x-python",
   "name": "python",
   "nbconvert_exporter": "python",
   "pygments_lexer": "ipython3",
   "version": "3.9.18"
  }
 },
 "nbformat": 4,
 "nbformat_minor": 5
}

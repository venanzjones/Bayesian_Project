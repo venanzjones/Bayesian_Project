{
 "cells": [
  {
   "cell_type": "code",
   "execution_count": null,
   "metadata": {},
   "outputs": [],
   "source": [
    "import pandas as pd\n",
    "import numpy as np\n",
    "import matplotlib.pyplot as plt\n",
    "import arviz as az\n",
    "\n",
    "import sys, importlib\n",
    "from FetchModel import FetchModel\n",
    "from PostPred import PostPred\n",
    "importlib.reload(sys.modules['FetchModel'])\n",
    "importlib.reload(sys.modules['PostPred'])\n",
    "from FetchModel import FetchModel\n",
    "from PostPred import PostPred"
   ]
  },
  {
   "cell_type": "code",
   "execution_count": null,
   "metadata": {},
   "outputs": [],
   "source": [
    "Y = pd.read_csv(\"../Datasets/Dataset_180.csv\")\n",
    "Y['Count_180'] = pd.to_numeric(Y['Count_180']).astype('Int64')\n",
    "X = pd.read_csv(\"../Datasets/variables_to_select.csv\")"
   ]
  },
  {
   "cell_type": "code",
   "execution_count": null,
   "metadata": {},
   "outputs": [],
   "source": [
    "idx_obs = Y[Y['Count_180'].notna()].index\n",
    "idx_miss = Y[Y['Count_180'].isna()].index\n",
    "\n",
    "Y_obs = Y.loc[idx_obs, :].reset_index(drop=True)\n",
    "Y_miss = Y.loc[idx_miss, :].reset_index(drop=True)\n",
    "\n",
    "X_obs = X.loc[idx_obs, :].reset_index(drop=True)\n",
    "X_miss = X.loc[idx_miss, :].reset_index(drop=True)"
   ]
  },
  {
   "cell_type": "code",
   "execution_count": null,
   "metadata": {},
   "outputs": [],
   "source": [
    "stations = Y['idSensore']\n",
    "years = pd.Series(Y['Year'] - 2009)\n",
    "months = pd.Series(Y['Month'] - 3)\n",
    "unique_values = sorted(set(stations))\n",
    "mapping_dict = {value: index + 1 for index, value in enumerate(unique_values)}\n",
    "transformed_stations = [mapping_dict[value] for value in stations]\n",
    "stations_original = pd.Series(stations)\n",
    "stations = pd.Series(transformed_stations)\n",
    "\n",
    "stations_obs = stations.loc[idx_obs].reset_index(drop=True)\n",
    "stations_miss = stations.loc[idx_miss].reset_index(drop=True)\n",
    "years_obs = years.loc[idx_obs].reset_index(drop=True)\n",
    "years_miss = years.loc[idx_miss].reset_index(drop=True)\n",
    "months_obs = months.loc[idx_obs].reset_index(drop=True)\n",
    "months_miss = months.loc[idx_miss].reset_index(drop=True)\n",
    "\n",
    "\n",
    "day_in_month = [31,28,31,30,31,30,31,31,30,31,30,31]\n",
    "\n",
    "max_month = [day_in_month[Y['Month'][i]-1] for i in range(0,Y.shape[0]) ]\n",
    "\n",
    "max_month = pd.Series(max_month)\n",
    "max_month_obs = max_month.loc[idx_obs].reset_index(drop=True)\n",
    "max_month_miss = max_month.loc[idx_miss].reset_index(drop=True)"
   ]
  },
  {
   "cell_type": "code",
   "execution_count": null,
   "metadata": {},
   "outputs": [],
   "source": [
    "phi = 63\n",
    "distances = pd.read_csv(\"../Datasets/distances.csv\", index_col=0)"
   ]
  },
  {
   "cell_type": "code",
   "execution_count": null,
   "metadata": {},
   "outputs": [],
   "source": [
    "bin_logit = FetchModel('bin_logit').compile"
   ]
  }
 ],
 "metadata": {
  "language_info": {
   "name": "python"
  }
 },
 "nbformat": 4,
 "nbformat_minor": 2
}

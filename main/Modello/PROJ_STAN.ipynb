{
 "cells": [
  {
   "cell_type": "code",
   "execution_count": 1,
   "metadata": {
    "id": "_--446-AOX7S"
   },
   "outputs": [],
   "source": [
    "import pandas as pd\n",
    "import numpy as np\n",
    "import matplotlib.pyplot as plt\n",
    "import seaborn as sns\n",
    "from tensorflow_probability.substrates import numpy as tfp"
   ]
  },
  {
   "cell_type": "code",
   "execution_count": 2,
   "metadata": {
    "id": "p46jGP14O-7S"
   },
   "outputs": [
    {
     "name": "stdout",
     "output_type": "stream",
     "text": [
      "CmdStan install directory: C:\\Users\\39339\\.cmdstan\n",
      "CmdStan version 2.33.1 already installed\n",
      "Test model compilation\n"
     ]
    },
    {
     "data": {
      "text/plain": [
       "True"
      ]
     },
     "execution_count": 2,
     "metadata": {},
     "output_type": "execute_result"
    }
   ],
   "source": [
    "from cmdstanpy import install_cmdstan\n",
    "install_cmdstan()"
   ]
  },
  {
   "cell_type": "code",
   "execution_count": 3,
   "metadata": {
    "id": "GPLBUL9aOpKE"
   },
   "outputs": [],
   "source": [
    "from cmdstanpy import CmdStanModel, set_cmdstan_path\n",
    "import arviz as az"
   ]
  },
  {
   "cell_type": "code",
   "execution_count": 68,
   "metadata": {
    "id": "ka_m1h_TNn3T"
   },
   "outputs": [],
   "source": [
    "X = pd.read_csv(\"../Datasets/covariates.csv\")"
   ]
  },
  {
   "cell_type": "code",
   "execution_count": 69,
   "metadata": {},
   "outputs": [],
   "source": [
    "Y = pd.read_csv(\"../Datasets/Dataset_120.csv\")\n",
    "Y['Count_120'] = pd.to_numeric(Y['Count_120']).astype('Int64')"
   ]
  },
  {
   "cell_type": "code",
   "execution_count": 70,
   "metadata": {},
   "outputs": [],
   "source": [
    "X = pd.get_dummies(X ,columns = ['Type'] ,prefix = 'type', drop_first = True)"
   ]
  },
  {
   "cell_type": "code",
   "execution_count": 71,
   "metadata": {},
   "outputs": [],
   "source": [
    "X.loc[X['Station'] == 10171, 'Quota'] = 10"
   ]
  },
  {
   "cell_type": "code",
   "execution_count": 91,
   "metadata": {},
   "outputs": [],
   "source": [
    "rows_to_drop_Y = Y[Y['Count_120'].isna()].index\n",
    "\n",
    "# Remove corresponding rows from dataset X\n",
    "X = X.drop(index=rows_to_drop_Y)\n",
    "Y = Y.drop(index=rows_to_drop_Y)\n",
    "\n",
    "# If you want to reset the index after dropping rows\n",
    "X = X.reset_index(drop=True)\n",
    "Y = Y.reset_index(drop=True)"
   ]
  },
  {
   "cell_type": "code",
   "execution_count": 106,
   "metadata": {
    "id": "0wHWPTNOOtqm"
   },
   "outputs": [
    {
     "name": "stderr",
     "output_type": "stream",
     "text": [
      "15:02:07 - cmdstanpy - INFO - compiling stan file C:\\Users\\39339\\OneDrive\\Desktop\\ISEMES~1\\BAYESI~2\\main\\Modello\\priors.stan to exe file C:\\Users\\39339\\OneDrive\\Desktop\\I semestre\\Bayesian_Project\\main\\Modello\\priors.exe\n",
      "15:03:04 - cmdstanpy - INFO - compiled model executable: C:\\Users\\39339\\OneDrive\\Desktop\\I semestre\\Bayesian_Project\\main\\Modello\\priors.exe\n"
     ]
    }
   ],
   "source": [
    "prior_elic = \"\"\"\n",
    "\n",
    "data {\n",
    "  int<lower=1> N; // Number of observations\n",
    "  int<lower=1> P; // Covariate number\n",
    "  int<lower=1> nyears;\n",
    "  int<lower=1> nstations;\n",
    "\n",
    "\n",
    "  array[N] int<lower=1> station;\n",
    "  array[N] int<lower=1> year;\n",
    "  // array[N] int<lower=4, upper=10> month;\n",
    "\n",
    "  array[N] int<lower=0> y; // Count data\n",
    "  matrix[N, P] X; // Predictor matrix\n",
    "}\n",
    "\n",
    "parameters {\n",
    "  vector[P] beta; // Coefficients for predictors\n",
    "  vector[nstations] eta; // Random effects for comuni\n",
    "  vector[nyears] xi; // Random effects for years\n",
    "\n",
    "  //real<lower=0> sigma0; // Standard deviation for beta\n",
    "  //real<lower=0> sigma1; // Standard deviation for xi\n",
    "  //real<lower=0> sigma2; // Standard deviation for eta\n",
    "}\n",
    "\n",
    "transformed parameters {\n",
    "    vector[N] lambda;\n",
    "    vector[N] intercept;\n",
    "    vector[N] fix_eff;\n",
    "\n",
    "    intercept = xi[year] + eta[station];\n",
    "    fix_eff = X * beta;\n",
    "\n",
    "    lambda = exp(intercept + fix_eff);\n",
    "}\n",
    "\n",
    "model {\n",
    "\n",
    "  beta ~ normal(0, 2);\n",
    "  xi ~ normal(0, 2);\n",
    "  eta ~ normal(0, 2);\n",
    "  y[1:N] ~ poisson(lambda[1:N]);\n",
    "\n",
    "\n",
    "}\n",
    "\n",
    "\"\"\"\n",
    "\n",
    "stan_file = \"./priors.stan\"\n",
    "\n",
    "with open(stan_file, \"w\") as f:\n",
    "    print(prior_elic, file=f)\n",
    "\n",
    "priors = CmdStanModel(stan_file=stan_file)"
   ]
  },
  {
   "cell_type": "code",
   "execution_count": 94,
   "metadata": {},
   "outputs": [],
   "source": [
    "stations = X['Station']\n",
    "years = X['Year'] - 2009\n",
    "unique_values = sorted(set(stations))\n",
    "mapping_dict = {value: index + 1 for index, value in enumerate(unique_values)}\n",
    "transformed_stations = [mapping_dict[value] for value in stations]\n",
    "stations = transformed_stations"
   ]
  },
  {
   "cell_type": "code",
   "execution_count": 110,
   "metadata": {},
   "outputs": [],
   "source": [
    "X = X.drop(['Year','Station','Month'], axis  = 1)"
   ]
  },
  {
   "cell_type": "code",
   "execution_count": 124,
   "metadata": {},
   "outputs": [],
   "source": [
    "from sklearn.preprocessing import StandardScaler\n",
    "\n",
    "scaler = StandardScaler()\n",
    "X_std = scaler.fit_transform(X)\n",
    "X_std = pd.DataFrame(X_std, columns=X.columns)"
   ]
  },
  {
   "cell_type": "code",
   "execution_count": 127,
   "metadata": {
    "colab": {
     "base_uri": "https://localhost:8080/",
     "height": 1000
    },
    "id": "GDdcosb-PFkV",
    "outputId": "944c62cb-e884-47fd-83a3-b6611b88935e"
   },
   "outputs": [
    {
     "name": "stderr",
     "output_type": "stream",
     "text": [
      "15:11:39 - cmdstanpy - INFO - CmdStan start processing\n"
     ]
    },
    {
     "data": {
      "application/vnd.jupyter.widget-view+json": {
       "model_id": "9b9f2e91a5b042dea93e87ef088e2017",
       "version_major": 2,
       "version_minor": 0
      },
      "text/plain": [
       "chain 1 |          | 00:00 Status"
      ]
     },
     "metadata": {},
     "output_type": "display_data"
    },
    {
     "data": {
      "application/vnd.jupyter.widget-view+json": {
       "model_id": "9a47994dcea5401ab12bc100d7a46475",
       "version_major": 2,
       "version_minor": 0
      },
      "text/plain": [
       "chain 2 |          | 00:00 Status"
      ]
     },
     "metadata": {},
     "output_type": "display_data"
    },
    {
     "data": {
      "application/vnd.jupyter.widget-view+json": {
       "model_id": "ed2e7f97fac64f6a872568081d8f66cf",
       "version_major": 2,
       "version_minor": 0
      },
      "text/plain": [
       "chain 3 |          | 00:00 Status"
      ]
     },
     "metadata": {},
     "output_type": "display_data"
    },
    {
     "data": {
      "application/vnd.jupyter.widget-view+json": {
       "model_id": "2c0bc17eaa004eda974bc83f9546cc40",
       "version_major": 2,
       "version_minor": 0
      },
      "text/plain": [
       "chain 4 |          | 00:00 Status"
      ]
     },
     "metadata": {},
     "output_type": "display_data"
    },
    {
     "name": "stdout",
     "output_type": "stream",
     "text": [
      "                                                                                                                                                                                                                                                                                                                                                                                                                                                                                                "
     ]
    },
    {
     "name": "stderr",
     "output_type": "stream",
     "text": [
      "15:30:53 - cmdstanpy - INFO - CmdStan done processing.\n"
     ]
    },
    {
     "name": "stdout",
     "output_type": "stream",
     "text": [
      "\n"
     ]
    },
    {
     "name": "stderr",
     "output_type": "stream",
     "text": [
      "15:30:59 - cmdstanpy - WARNING - Some chains may have failed to converge.\n",
      "\tChain 1 had 468 iterations at max treedepth (46.8%)\n",
      "\tChain 2 had 292 iterations at max treedepth (29.2%)\n",
      "\tChain 3 had 234 iterations at max treedepth (23.4%)\n",
      "\tChain 4 had 379 iterations at max treedepth (37.9%)\n",
      "\tUse the \"diagnose()\" method on the CmdStanMCMC object to see further information.\n"
     ]
    }
   ],
   "source": [
    "data = {\n",
    "    \"N\": len(Y),\n",
    "    \"P\": X_std.shape[1],\n",
    "    \"nyears\": 13,\n",
    "    \"nstations\": 45,\n",
    "    \"station\": stations,\n",
    "    \"year\": years,\n",
    "    \"y\": Y['Count_120'],\n",
    "    \"X\": X_std\n",
    "}\n",
    "\n",
    "\n",
    "fit = priors.sample(data=data, chains=4, parallel_chains=4, \n",
    "    iter_warmup=1000, iter_sampling=1000)\n",
    "prior_az = az.from_cmdstanpy(fit)"
   ]
  },
  {
   "cell_type": "code",
   "execution_count": null,
   "metadata": {},
   "outputs": [],
   "source": [
    "az.plot_trace(prior_az, compact=False)\n",
    "plt.tight_layout()\n",
    "plt.show()"
   ]
  }
 ],
 "metadata": {
  "colab": {
   "provenance": []
  },
  "kernelspec": {
   "display_name": "Python 3 (ipykernel)",
   "language": "python",
   "name": "python3"
  },
  "language_info": {
   "codemirror_mode": {
    "name": "ipython",
    "version": 3
   },
   "file_extension": ".py",
   "mimetype": "text/x-python",
   "name": "python",
   "nbconvert_exporter": "python",
   "pygments_lexer": "ipython3",
   "version": "3.9.18"
  }
 },
 "nbformat": 4,
 "nbformat_minor": 1
}

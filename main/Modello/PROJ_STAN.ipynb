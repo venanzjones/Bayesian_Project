{
 "cells": [
  {
   "cell_type": "code",
   "execution_count": 1,
   "metadata": {
    "id": "_--446-AOX7S"
   },
   "outputs": [],
   "source": [
    "import pandas as pd\n",
    "import numpy as np\n",
    "import matplotlib.pyplot as plt\n",
    "import seaborn as sns\n",
    "from tensorflow_probability.substrates import numpy as tfp"
   ]
  },
  {
   "cell_type": "code",
   "execution_count": null,
   "metadata": {
    "id": "H0EgvBWdO777"
   },
   "outputs": [],
   "source": [
    "!pip install cmdstanpy\n",
    "!pip install git+https://github.com/OriolAbril/arviz.git@ci"
   ]
  },
  {
   "cell_type": "code",
   "execution_count": null,
   "metadata": {
    "id": "p46jGP14O-7S"
   },
   "outputs": [],
   "source": [
    "from cmdstanpy import install_cmdstan\n",
    "install_cmdstan()"
   ]
  },
  {
   "cell_type": "code",
   "execution_count": 2,
   "metadata": {
    "id": "GPLBUL9aOpKE"
   },
   "outputs": [],
   "source": [
    "from cmdstanpy import CmdStanModel, set_cmdstan_path\n",
    "import arviz as az"
   ]
  },
  {
   "cell_type": "code",
   "execution_count": 76,
   "metadata": {
    "id": "ka_m1h_TNn3T"
   },
   "outputs": [],
   "source": [
    "X = pd.read_csv(\"../Datasets/covariates.csv\")"
   ]
  },
  {
   "cell_type": "code",
   "execution_count": 61,
   "metadata": {},
   "outputs": [
    {
     "data": {
      "text/html": [
       "<div>\n",
       "<style scoped>\n",
       "    .dataframe tbody tr th:only-of-type {\n",
       "        vertical-align: middle;\n",
       "    }\n",
       "\n",
       "    .dataframe tbody tr th {\n",
       "        vertical-align: top;\n",
       "    }\n",
       "\n",
       "    .dataframe thead th {\n",
       "        text-align: right;\n",
       "    }\n",
       "</style>\n",
       "<table border=\"1\" class=\"dataframe\">\n",
       "  <thead>\n",
       "    <tr style=\"text-align: right;\">\n",
       "      <th></th>\n",
       "      <th>Count_120</th>\n",
       "      <th>idSensore</th>\n",
       "      <th>Year</th>\n",
       "      <th>Month</th>\n",
       "    </tr>\n",
       "  </thead>\n",
       "  <tbody>\n",
       "    <tr>\n",
       "      <th>0</th>\n",
       "      <td>4.0</td>\n",
       "      <td>5707</td>\n",
       "      <td>2010</td>\n",
       "      <td>4</td>\n",
       "    </tr>\n",
       "    <tr>\n",
       "      <th>1</th>\n",
       "      <td>8.0</td>\n",
       "      <td>5707</td>\n",
       "      <td>2010</td>\n",
       "      <td>5</td>\n",
       "    </tr>\n",
       "    <tr>\n",
       "      <th>2</th>\n",
       "      <td>16.0</td>\n",
       "      <td>5707</td>\n",
       "      <td>2010</td>\n",
       "      <td>6</td>\n",
       "    </tr>\n",
       "    <tr>\n",
       "      <th>3</th>\n",
       "      <td>25.0</td>\n",
       "      <td>5707</td>\n",
       "      <td>2010</td>\n",
       "      <td>7</td>\n",
       "    </tr>\n",
       "    <tr>\n",
       "      <th>4</th>\n",
       "      <td>12.0</td>\n",
       "      <td>5707</td>\n",
       "      <td>2010</td>\n",
       "      <td>8</td>\n",
       "    </tr>\n",
       "  </tbody>\n",
       "</table>\n",
       "</div>"
      ],
      "text/plain": [
       "   Count_120  idSensore  Year  Month\n",
       "0        4.0       5707  2010      4\n",
       "1        8.0       5707  2010      5\n",
       "2       16.0       5707  2010      6\n",
       "3       25.0       5707  2010      7\n",
       "4       12.0       5707  2010      8"
      ]
     },
     "execution_count": 61,
     "metadata": {},
     "output_type": "execute_result"
    }
   ],
   "source": [
    "X.head()\n",
    "Y.head()"
   ]
  },
  {
   "cell_type": "code",
   "execution_count": 78,
   "metadata": {
    "id": "fTo3EZZocHJY"
   },
   "outputs": [],
   "source": [
    "X['Type'] = X['Type'].astype('category')"
   ]
  },
  {
   "cell_type": "code",
   "execution_count": 79,
   "metadata": {
    "id": "f7wxwhe6dyKh"
   },
   "outputs": [],
   "source": [
    "X = X.drop('Type', axis = 1)"
   ]
  },
  {
   "cell_type": "code",
   "execution_count": 77,
   "metadata": {
    "id": "tbcAVcL2PadY"
   },
   "outputs": [
    {
     "data": {
      "text/plain": [
       "(4095, 4)"
      ]
     },
     "execution_count": 77,
     "metadata": {},
     "output_type": "execute_result"
    }
   ],
   "source": [
    "Y = pd.read_csv(\"../Datasets/Dataset_120.csv\").sort_values(by=['idSensore','Year','Month'])\n",
    "Y.head()\n",
    "Y.shape"
   ]
  },
  {
   "cell_type": "code",
   "execution_count": 81,
   "metadata": {},
   "outputs": [
    {
     "data": {
      "text/plain": [
       "(3840, 12)"
      ]
     },
     "execution_count": 81,
     "metadata": {},
     "output_type": "execute_result"
    }
   ],
   "source": [
    "rows_to_drop_Y = Y[Y['Count_120'].isna()].index\n",
    "\n",
    "# Remove corresponding rows from dataset X\n",
    "X = X.drop(index=rows_to_drop_Y)\n",
    "Y = Y.drop(index=rows_to_drop_Y)\n",
    "stations = X['Station']\n",
    "years = X['Year']\n",
    "\n",
    "# If you want to reset the index after dropping rows\n",
    "X = X.reset_index(drop=True)\n",
    "\n",
    "X.shape\n"
   ]
  },
  {
   "cell_type": "code",
   "execution_count": 25,
   "metadata": {
    "id": "0wHWPTNOOtqm"
   },
   "outputs": [
    {
     "name": "stderr",
     "output_type": "stream",
     "text": [
      "18:08:02 - cmdstanpy - INFO - compiling stan file C:\\Users\\leoma\\OneDrive\\DOCUME~1\\PoliMi\\BAYESI~1\\BAYESI~1\\main\\Stan\\priors.stan to exe file C:\\Users\\leoma\\OneDrive\\Documents\\PoliMi\\Bayesian statistics\\Bayesian_Project\\main\\Stan\\priors.exe\n",
      "18:08:36 - cmdstanpy - INFO - compiled model executable: C:\\Users\\leoma\\OneDrive\\Documents\\PoliMi\\Bayesian statistics\\Bayesian_Project\\main\\Stan\\priors.exe\n"
     ]
    }
   ],
   "source": [
    "prior_elic = \"\"\"\n",
    "\n",
    "data {\n",
    "  int<lower=1> N; // Number of observations\n",
    "  int<lower=1> P; // Covariate number (should be around 10)\n",
    "  int<lower=1> nyears;\n",
    "  int<lower=1> nstations;\n",
    "\n",
    "\n",
    "  array[N] int<lower=1> station;\n",
    "  array[N] int<lower=2010, upper=2022> year;\n",
    "  // array[N] int<lower=4, upper=10> month;\n",
    "\n",
    "  array[N] int<lower=0> y; // Count data\n",
    "  matrix[N, P] X; // Predictor matrix\n",
    "}\n",
    "\n",
    "parameters {\n",
    "  vector[P] beta; // Coefficients for predictors\n",
    "  vector[nstations] eta; // Random effects for comuni\n",
    "  vector[nyears] xi; // Random effects for years\n",
    "\n",
    "  //real<lower=0> sigma0; // Standard deviation for beta\n",
    "  //real<lower=0> sigma1; // Standard deviation for xi\n",
    "  //real<lower=0> sigma2; // Standard deviation for eta\n",
    "}\n",
    "\n",
    "transformed parameters {\n",
    "    vector[N] lambda;\n",
    "    vector[N] intercept;\n",
    "    vector[N] fix_eff;\n",
    "\n",
    "    intercept = xi[year] + eta[station];\n",
    "    fix_eff = X * beta;\n",
    "\n",
    "    lambda = exp(intercept + fix_eff);\n",
    "}\n",
    "\n",
    "model {\n",
    "\n",
    "  beta ~ normal(0, 10);\n",
    "  xi ~ normal(0, 10);\n",
    "  eta ~ normal(0, 10);\n",
    "\n",
    "  for (n in 1:N) {\n",
    "    y[n] ~ poisson(lambda[n]);\n",
    "  }\n",
    "\n",
    "}\n",
    "\n",
    "\"\"\"\n",
    "\n",
    "stan_file = \"./priors.stan\"\n",
    "\n",
    "with open(stan_file, \"w\") as f:\n",
    "    print(prior_elic, file=f)\n",
    "\n",
    "priors = CmdStanModel(stan_file=stan_file)"
   ]
  },
  {
   "cell_type": "code",
   "execution_count": 80,
   "metadata": {
    "id": "arP7Imh-gJii"
   },
   "outputs": [],
   "source": [
    "Y['Count_120'] = pd.to_numeric(Y['Count_120']).astype('Int64')"
   ]
  },
  {
   "cell_type": "code",
   "execution_count": 83,
   "metadata": {
    "colab": {
     "base_uri": "https://localhost:8080/",
     "height": 1000
    },
    "id": "GDdcosb-PFkV",
    "outputId": "944c62cb-e884-47fd-83a3-b6611b88935e"
   },
   "outputs": [
    {
     "name": "stderr",
     "output_type": "stream",
     "text": [
      "18:26:41 - cmdstanpy - INFO - CmdStan start processing\n"
     ]
    },
    {
     "data": {
      "application/vnd.jupyter.widget-view+json": {
       "model_id": "a34d03536830434f91847e77ec6107b0",
       "version_major": 2,
       "version_minor": 0
      },
      "text/plain": [
       "chain 1 |          | 00:00 Status"
      ]
     },
     "metadata": {},
     "output_type": "display_data"
    },
    {
     "data": {
      "application/vnd.jupyter.widget-view+json": {
       "model_id": "573eeb830156413db35d7af088afa877",
       "version_major": 2,
       "version_minor": 0
      },
      "text/plain": [
       "chain 2 |          | 00:00 Status"
      ]
     },
     "metadata": {},
     "output_type": "display_data"
    },
    {
     "data": {
      "application/vnd.jupyter.widget-view+json": {
       "model_id": "e694a3cc854d4c6a8fb93d7bf39d24fb",
       "version_major": 2,
       "version_minor": 0
      },
      "text/plain": [
       "chain 3 |          | 00:00 Status"
      ]
     },
     "metadata": {},
     "output_type": "display_data"
    },
    {
     "data": {
      "application/vnd.jupyter.widget-view+json": {
       "model_id": "b59e81e4aabf4203bbeef1f26ec5ecbe",
       "version_major": 2,
       "version_minor": 0
      },
      "text/plain": [
       "chain 4 |          | 00:00 Status"
      ]
     },
     "metadata": {},
     "output_type": "display_data"
    },
    {
     "name": "stderr",
     "output_type": "stream",
     "text": [
      "18:26:41 - cmdstanpy - ERROR - Chain [2] error: error during processing Operation not permitted\n",
      "18:26:41 - cmdstanpy - ERROR - Chain [3] error: error during processing Operation not permitted\n",
      "18:26:41 - cmdstanpy - ERROR - Chain [1] error: error during processing Operation not permitted\n",
      "18:26:41 - cmdstanpy - ERROR - Chain [4] error: error during processing Operation not permitted\n"
     ]
    },
    {
     "name": "stdout",
     "output_type": "stream",
     "text": [
      "                                                                                                                                                                                                                                                                                                                                                                                                                                                                                                                                                                                                "
     ]
    },
    {
     "name": "stderr",
     "output_type": "stream",
     "text": [
      "18:26:41 - cmdstanpy - INFO - CmdStan done processing.\n"
     ]
    },
    {
     "name": "stdout",
     "output_type": "stream",
     "text": [
      "\n"
     ]
    },
    {
     "ename": "RuntimeError",
     "evalue": "Error during sampling:\nException: vector[multi] indexing: accessing element out of range. index 5707 out of range; expecting index to be between 1 and 45 (in 'priors.stan', line 33, column 4 to column 40)\nException: vector[multi] indexing: accessing element out of range. index 5707 out of range; expecting index to be between 1 and 45 (in 'priors.stan', line 33, column 4 to column 40)\nException: vector[multi] indexing: accessing element out of range. index 5707 out of range; expecting index to be between 1 and 45 (in 'priors.stan', line 33, column 4 to column 40)\nException: vector[multi] indexing: accessing element out of range. index 5707 out of range; expecting index to be between 1 and 45 (in 'priors.stan', line 33, column 4 to column 40)\nCommand and output files:\nRunSet: chains=4, chain_ids=[1, 2, 3, 4], num_processes=4\n cmd (chain 1):\n\t['C:\\\\Users\\\\leoma\\\\OneDrive\\\\Documents\\\\PoliMi\\\\Bayesian statistics\\\\Bayesian_Project\\\\main\\\\Stan\\\\priors.exe', 'id=1', 'random', 'seed=84988', 'data', 'file=C:\\\\Users\\\\leoma\\\\AppData\\\\Local\\\\Temp\\\\tmp7oih0pvs\\\\1mfq7u76.json', 'output', 'file=C:\\\\Users\\\\leoma\\\\AppData\\\\Local\\\\Temp\\\\tmp7oih0pvs\\\\priorszsda71td\\\\priors-20231204182641_1.csv', 'method=sample', 'num_samples=1000', 'num_warmup=1000', 'algorithm=hmc', 'adapt', 'engaged=1']\n retcodes=[1, 1, 1, 1]\n per-chain output files (showing chain 1 only):\n csv_file:\n\tC:\\Users\\leoma\\AppData\\Local\\Temp\\tmp7oih0pvs\\priorszsda71td\\priors-20231204182641_1.csv\n console_msgs (if any):\n\tC:\\Users\\leoma\\AppData\\Local\\Temp\\tmp7oih0pvs\\priorszsda71td\\priors-20231204182641_0-stdout.txt\nConsider re-running with show_console=True if the above output is unclear!",
     "output_type": "error",
     "traceback": [
      "\u001b[1;31m---------------------------------------------------------------------------\u001b[0m",
      "\u001b[1;31mRuntimeError\u001b[0m                              Traceback (most recent call last)",
      "Cell \u001b[1;32mIn[83], line 13\u001b[0m\n\u001b[0;32m      1\u001b[0m data \u001b[38;5;241m=\u001b[39m {\n\u001b[0;32m      2\u001b[0m     \u001b[38;5;124m\"\u001b[39m\u001b[38;5;124mN\u001b[39m\u001b[38;5;124m\"\u001b[39m: \u001b[38;5;28mlen\u001b[39m(Y),\n\u001b[0;32m      3\u001b[0m     \u001b[38;5;124m\"\u001b[39m\u001b[38;5;124mP\u001b[39m\u001b[38;5;124m\"\u001b[39m: X\u001b[38;5;241m.\u001b[39mshape[\u001b[38;5;241m1\u001b[39m],\n\u001b[1;32m   (...)\u001b[0m\n\u001b[0;32m      9\u001b[0m     \u001b[38;5;124m\"\u001b[39m\u001b[38;5;124mX\u001b[39m\u001b[38;5;124m\"\u001b[39m: X\n\u001b[0;32m     10\u001b[0m }\n\u001b[1;32m---> 13\u001b[0m fit \u001b[38;5;241m=\u001b[39m priors\u001b[38;5;241m.\u001b[39msample(data\u001b[38;5;241m=\u001b[39mdata, chains\u001b[38;5;241m=\u001b[39m\u001b[38;5;241m4\u001b[39m, parallel_chains\u001b[38;5;241m=\u001b[39m\u001b[38;5;241m4\u001b[39m, \n\u001b[0;32m     14\u001b[0m     iter_warmup\u001b[38;5;241m=\u001b[39m\u001b[38;5;241m1000\u001b[39m, iter_sampling\u001b[38;5;241m=\u001b[39m\u001b[38;5;241m1000\u001b[39m)\n\u001b[0;32m     15\u001b[0m prior_az \u001b[38;5;241m=\u001b[39m az\u001b[38;5;241m.\u001b[39mfrom_cmdstanpy(fit)\n",
      "File \u001b[1;32m~\\anaconda3\\Lib\\site-packages\\cmdstanpy\\model.py:1173\u001b[0m, in \u001b[0;36mCmdStanModel.sample\u001b[1;34m(self, data, chains, parallel_chains, threads_per_chain, seed, chain_ids, inits, iter_warmup, iter_sampling, save_warmup, thin, max_treedepth, metric, step_size, adapt_engaged, adapt_delta, adapt_init_phase, adapt_metric_window, adapt_step_size, fixed_param, output_dir, sig_figs, save_latent_dynamics, save_profile, show_progress, show_console, refresh, time_fmt, timeout, force_one_process_per_chain)\u001b[0m\n\u001b[0;32m   1168\u001b[0m     \u001b[38;5;28;01mif\u001b[39;00m \u001b[38;5;129;01mnot\u001b[39;00m show_console:\n\u001b[0;32m   1169\u001b[0m         msg \u001b[38;5;241m+\u001b[39m\u001b[38;5;241m=\u001b[39m (\n\u001b[0;32m   1170\u001b[0m             \u001b[38;5;124m'\u001b[39m\u001b[38;5;130;01m\\n\u001b[39;00m\u001b[38;5;124mConsider re-running with show_console=True if the\u001b[39m\u001b[38;5;124m'\u001b[39m\n\u001b[0;32m   1171\u001b[0m             \u001b[38;5;124m'\u001b[39m\u001b[38;5;124m above output is unclear!\u001b[39m\u001b[38;5;124m'\u001b[39m\n\u001b[0;32m   1172\u001b[0m         )\n\u001b[1;32m-> 1173\u001b[0m     \u001b[38;5;28;01mraise\u001b[39;00m \u001b[38;5;167;01mRuntimeError\u001b[39;00m(msg)\n\u001b[0;32m   1174\u001b[0m \u001b[38;5;28;01mif\u001b[39;00m errors:\n\u001b[0;32m   1175\u001b[0m     msg \u001b[38;5;241m=\u001b[39m \u001b[38;5;124mf\u001b[39m\u001b[38;5;124m'\u001b[39m\u001b[38;5;124mNon-fatal error during sampling:\u001b[39m\u001b[38;5;130;01m\\n\u001b[39;00m\u001b[38;5;132;01m{\u001b[39;00merrors\u001b[38;5;132;01m}\u001b[39;00m\u001b[38;5;124m'\u001b[39m\n",
      "\u001b[1;31mRuntimeError\u001b[0m: Error during sampling:\nException: vector[multi] indexing: accessing element out of range. index 5707 out of range; expecting index to be between 1 and 45 (in 'priors.stan', line 33, column 4 to column 40)\nException: vector[multi] indexing: accessing element out of range. index 5707 out of range; expecting index to be between 1 and 45 (in 'priors.stan', line 33, column 4 to column 40)\nException: vector[multi] indexing: accessing element out of range. index 5707 out of range; expecting index to be between 1 and 45 (in 'priors.stan', line 33, column 4 to column 40)\nException: vector[multi] indexing: accessing element out of range. index 5707 out of range; expecting index to be between 1 and 45 (in 'priors.stan', line 33, column 4 to column 40)\nCommand and output files:\nRunSet: chains=4, chain_ids=[1, 2, 3, 4], num_processes=4\n cmd (chain 1):\n\t['C:\\\\Users\\\\leoma\\\\OneDrive\\\\Documents\\\\PoliMi\\\\Bayesian statistics\\\\Bayesian_Project\\\\main\\\\Stan\\\\priors.exe', 'id=1', 'random', 'seed=84988', 'data', 'file=C:\\\\Users\\\\leoma\\\\AppData\\\\Local\\\\Temp\\\\tmp7oih0pvs\\\\1mfq7u76.json', 'output', 'file=C:\\\\Users\\\\leoma\\\\AppData\\\\Local\\\\Temp\\\\tmp7oih0pvs\\\\priorszsda71td\\\\priors-20231204182641_1.csv', 'method=sample', 'num_samples=1000', 'num_warmup=1000', 'algorithm=hmc', 'adapt', 'engaged=1']\n retcodes=[1, 1, 1, 1]\n per-chain output files (showing chain 1 only):\n csv_file:\n\tC:\\Users\\leoma\\AppData\\Local\\Temp\\tmp7oih0pvs\\priorszsda71td\\priors-20231204182641_1.csv\n console_msgs (if any):\n\tC:\\Users\\leoma\\AppData\\Local\\Temp\\tmp7oih0pvs\\priorszsda71td\\priors-20231204182641_0-stdout.txt\nConsider re-running with show_console=True if the above output is unclear!"
     ]
    }
   ],
   "source": [
    "data = {\n",
    "    \"N\": len(Y),\n",
    "    \"P\": X.shape[1],\n",
    "    \"nyears\": 13,\n",
    "    \"nstations\": 45,\n",
    "    \"station\": stations,\n",
    "    \"year\": years,\n",
    "    \"y\": Y['Count_120'],\n",
    "    \"X\": X\n",
    "}\n",
    "\n",
    "\n",
    "fit = priors.sample(data=data, chains=4, parallel_chains=4, \n",
    "    iter_warmup=1000, iter_sampling=1000)\n",
    "prior_az = az.from_cmdstanpy(fit)"
   ]
  }
 ],
 "metadata": {
  "colab": {
   "provenance": []
  },
  "kernelspec": {
   "display_name": "Python 3 (ipykernel)",
   "language": "python",
   "name": "python3"
  },
  "language_info": {
   "codemirror_mode": {
    "name": "ipython",
    "version": 3
   },
   "file_extension": ".py",
   "mimetype": "text/x-python",
   "name": "python",
   "nbconvert_exporter": "python",
   "pygments_lexer": "ipython3",
   "version": "3.11.5"
  }
 },
 "nbformat": 4,
 "nbformat_minor": 1
}

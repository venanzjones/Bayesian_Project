{
 "cells": [
  {
   "cell_type": "code",
   "execution_count": 1,
   "metadata": {},
   "outputs": [],
   "source": [
    "import pandas as pd\n",
    "import numpy as np\n",
    "import matplotlib.pyplot as plt\n",
    "import arviz as az\n",
    "\n",
    "import sys, importlib\n",
    "from FetchModel import FetchModel\n",
    "from PostPred import PostPred\n",
    "importlib.reload(sys.modules['FetchModel'])\n",
    "importlib.reload(sys.modules['PostPred'])\n",
    "from FetchModel import FetchModel\n",
    "from PostPred import PostPred"
   ]
  },
  {
   "cell_type": "code",
   "execution_count": 2,
   "metadata": {},
   "outputs": [],
   "source": [
    "Y = pd.read_csv(\"../Datasets/Dataset_180.csv\")\n",
    "Y['Count_180'] = pd.to_numeric(Y['Count_180']).astype('Int64')\n",
    "X = pd.read_csv(\"../Datasets/variables_to_select.csv\")\n",
    "X_raw = pd.read_csv(\"../Datasets/covariates.csv\")"
   ]
  },
  {
   "cell_type": "code",
   "execution_count": 3,
   "metadata": {},
   "outputs": [],
   "source": [
    "idx_obs = Y[Y['Count_180'].notna()].index\n",
    "idx_miss = Y[Y['Count_180'].isna()].index\n",
    "\n",
    "Y_obs = Y.loc[idx_obs, :].reset_index(drop=True)\n",
    "Y_miss = Y.loc[idx_miss, :].reset_index(drop=True)\n",
    "\n",
    "X_obs = X.loc[idx_obs, :].reset_index(drop=True)\n",
    "X_miss = X.loc[idx_miss, :].reset_index(drop=True)"
   ]
  },
  {
   "cell_type": "code",
   "execution_count": 4,
   "metadata": {},
   "outputs": [],
   "source": [
    "stations = Y['idSensore']\n",
    "years = pd.Series(Y['Year'] - 2009)\n",
    "months = pd.Series(Y['Month'] - 3)\n",
    "unique_values = sorted(set(stations))\n",
    "mapping_dict = {value: index + 1 for index, value in enumerate(unique_values)}\n",
    "transformed_stations = [mapping_dict[value] for value in stations]\n",
    "stations_original = pd.Series(stations)\n",
    "stations = pd.Series(transformed_stations)\n",
    "\n",
    "stations_obs = stations.loc[idx_obs].reset_index(drop=True)\n",
    "stations_miss = stations.loc[idx_miss].reset_index(drop=True)\n",
    "years_obs = years.loc[idx_obs].reset_index(drop=True)\n",
    "years_miss = years.loc[idx_miss].reset_index(drop=True)\n",
    "months_obs = months.loc[idx_obs].reset_index(drop=True)\n",
    "months_miss = months.loc[idx_miss].reset_index(drop=True)\n",
    "\n",
    "\n",
    "day_in_month = [31,28,31,30,31,30,31,31,30,31,30,31]\n",
    "\n",
    "max_month = [day_in_month[Y['Month'][i]-1] for i in range(0,Y.shape[0]) ]\n",
    "\n",
    "max_month = pd.Series(max_month)\n",
    "max_month_obs = max_month.loc[idx_obs].reset_index(drop=True)\n",
    "max_month_miss = max_month.loc[idx_miss].reset_index(drop=True)"
   ]
  },
  {
   "cell_type": "code",
   "execution_count": 5,
   "metadata": {},
   "outputs": [],
   "source": [
    "phi = 63\n",
    "distances = pd.read_csv(\"../Datasets/distances.csv\", index_col=0)"
   ]
  },
  {
   "cell_type": "code",
   "execution_count": 6,
   "metadata": {},
   "outputs": [
    {
     "name": "stderr",
     "output_type": "stream",
     "text": [
      "16:03:46 - cmdstanpy - INFO - compiling stan file C:\\Users\\leoma\\OneDrive\\DOCUME~1\\PoliMi\\BAYESI~1\\BAYESI~1\\main\\Modello\\stan\\zip.stan to exe file C:\\Users\\leoma\\OneDrive\\Documents\\PoliMi\\Bayesian statistics\\Bayesian_Project\\main\\Modello\\stan\\zip.exe\n",
      "16:04:39 - cmdstanpy - INFO - compiled model executable: C:\\Users\\leoma\\OneDrive\\Documents\\PoliMi\\Bayesian statistics\\Bayesian_Project\\main\\Modello\\stan\\zip.exe\n"
     ]
    }
   ],
   "source": [
    "model_zip = FetchModel(\"zip\").compile()"
   ]
  },
  {
   "cell_type": "code",
   "execution_count": null,
   "metadata": {},
   "outputs": [
    {
     "name": "stderr",
     "output_type": "stream",
     "text": [
      "16:04:40 - cmdstanpy - INFO - CmdStan start processing\n"
     ]
    },
    {
     "data": {
      "application/vnd.jupyter.widget-view+json": {
       "model_id": "7d0244bbb34640cca3404b4f3d6a2b28",
       "version_major": 2,
       "version_minor": 0
      },
      "text/plain": [
       "chain 1 |          | 00:00 Status"
      ]
     },
     "metadata": {},
     "output_type": "display_data"
    },
    {
     "data": {
      "application/vnd.jupyter.widget-view+json": {
       "model_id": "1bfd253e89ad49bcabf9e8445ade2133",
       "version_major": 2,
       "version_minor": 0
      },
      "text/plain": [
       "chain 2 |          | 00:00 Status"
      ]
     },
     "metadata": {},
     "output_type": "display_data"
    },
    {
     "data": {
      "application/vnd.jupyter.widget-view+json": {
       "model_id": "72c1277349f04b439cb6b741611d8b6b",
       "version_major": 2,
       "version_minor": 0
      },
      "text/plain": [
       "chain 3 |          | 00:00 Status"
      ]
     },
     "metadata": {},
     "output_type": "display_data"
    },
    {
     "data": {
      "application/vnd.jupyter.widget-view+json": {
       "model_id": "861e9eba151f4c49845710723b02a8c9",
       "version_major": 2,
       "version_minor": 0
      },
      "text/plain": [
       "chain 4 |          | 00:00 Status"
      ]
     },
     "metadata": {},
     "output_type": "display_data"
    }
   ],
   "source": [
    "data_zip = {\n",
    "    \"N\": len(Y_obs),\n",
    "    \"P\": X_obs.shape[1],\n",
    "    \"nyears\": 13,\n",
    "    \"nstations\": 45,\n",
    "    \"stations\": stations_obs,\n",
    "    \"year\": years_obs,\n",
    "    \"y\": Y_obs['Count_180'],\n",
    "    \"X\": X_obs,\n",
    "    \"phi\" : phi,\n",
    "    \"distances\" : distances,\n",
    "    \"nmonths\" : 7,\n",
    "    \"month\" : months_obs\n",
    "}\n",
    "\n",
    "fit_zip = model_zip.sample(data=data_zip, chains=4, parallel_chains=4, \n",
    "    iter_warmup=300, iter_sampling=200)\n",
    "posterior_180_zip = az.from_cmdstanpy(fit_zip)"
   ]
  },
  {
   "cell_type": "code",
   "execution_count": null,
   "metadata": {},
   "outputs": [],
   "source": [
    "post_pred = PostPred(posterior_180_zip, Y['Count_180'])\n",
    "Y_data = post_pred.Y\n",
    "post_pred.posterior_az"
   ]
  },
  {
   "cell_type": "code",
   "execution_count": null,
   "metadata": {},
   "outputs": [],
   "source": [
    "az.plot_trace(post_pred.posterior_az, var_names = ['beta', 'xi', 'eta', 'sigma', 'sigma_eta', 'sigma_beta', 'sigma_xi', 'theta'])\n",
    "plt.tight_layout()\n",
    "plt.show()"
   ]
  },
  {
   "cell_type": "code",
   "execution_count": null,
   "metadata": {},
   "outputs": [],
   "source": [
    "waic_out = az.waic(post_pred.posterior_az, var_name='log_lik')\n",
    "loo_out = az.loo(post_pred.posterior_az, var_name='log_lik')\n",
    "waic = waic_out.elpd_waic\n",
    "loo = loo_out.elpd_loo\n",
    "print(waic_out)\n",
    "print(loo_out)"
   ]
  },
  {
   "cell_type": "code",
   "execution_count": null,
   "metadata": {},
   "outputs": [],
   "source": [
    "y_pred, metrics = post_pred.predict(error_metrics=True)"
   ]
  },
  {
   "cell_type": "code",
   "execution_count": null,
   "metadata": {},
   "outputs": [],
   "source": [
    "alpha = 0.05\n",
    "theta_med = post_pred.posterior_med.theta.values\n",
    "alpha_adj = (alpha+theta_med-alpha*theta_med)\n",
    "quantiles_per_month = [post_pred.posterior.y_pred.quantile([alpha_adj[i]/2, 1-alpha_adj[i]/2], dim=['chain', 'draw']).values for i in range(0, len(alpha_adj))]\n",
    "y_CI = [quantiles_per_month[months_obs[i]-1][:, i] for i in range(0, len(months_obs))]\n",
    "y_star_up = [y_CI[i][1] for i in range(0, len(y_CI))]\n",
    "y_star_low = [y_CI[i][0] for i in range(0, len(y_CI))]\n",
    "y_star_up = pd.Series(y_star_up)\n",
    "y_star_low = pd.Series(y_star_low)"
   ]
  },
  {
   "cell_type": "code",
   "execution_count": null,
   "metadata": {},
   "outputs": [],
   "source": [
    "outliers = np.where(((Y_obs['Count_180'] > y_star_up) | (Y_obs['Count_180'] < y_star_low)) & Y_obs['Count_180'] != 0)[0]\n",
    "percentage_inside = 1 - len(outliers)/len(Y_obs)"
   ]
  },
  {
   "cell_type": "code",
   "execution_count": null,
   "metadata": {},
   "outputs": [],
   "source": [
    "y_obs, residuals, mse, mae, mad = metrics.values()\n",
    "print(f'Outliers:\\n{outliers}\\n')\n",
    "print(f'The total number of outliers is: {len(outliers)}\\n')\n",
    "print(f'The MSE is: {mse}\\n')\n",
    "print(f'The MAE is: {mae}\\n')\n",
    "print(f'The MAD is: {mad}\\n')\n",
    "print(f'The percentage of observations inside the CI is: {percentage_inside}\\n')"
   ]
  },
  {
   "cell_type": "code",
   "execution_count": null,
   "metadata": {},
   "outputs": [],
   "source": [
    "station_num_to_plot = 1 # Change this to plot a different station, -1 to plot manually\n",
    "if station_num_to_plot != -1:\n",
    "    xx = np.arange(12*7*(station_num_to_plot-1), 12*7*station_num_to_plot)\n",
    "else:\n",
    "    xx = np.arange(1000, 1200) # Change this for the range of the manual choice\n",
    "plt.figure(figsize=(15, 5))\n",
    "plt.plot(xx, y_pred.loc[xx, 'pred'], label='Predicted')\n",
    "plt.fill_between(xx, y_star_low[xx], y_star_up[xx], alpha=0.3, label='95% CI')\n",
    "plt.plot(xx, Y_data[xx], label='Observed')\n",
    "plt.legend()\n",
    "plt.title('Predicted vs Observed')\n",
    "plt.show()"
   ]
  }
 ],
 "metadata": {
  "kernelspec": {
   "display_name": "Python 3 (ipykernel)",
   "language": "python",
   "name": "python3"
  },
  "language_info": {
   "codemirror_mode": {
    "name": "ipython",
    "version": 3
   },
   "file_extension": ".py",
   "mimetype": "text/x-python",
   "name": "python",
   "nbconvert_exporter": "python",
   "pygments_lexer": "ipython3",
   "version": "3.11.5"
  }
 },
 "nbformat": 4,
 "nbformat_minor": 2
}
